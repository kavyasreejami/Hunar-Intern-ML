{
 "cells": [
  {
   "cell_type": "code",
   "execution_count": 3,
   "id": "1a16c555-51c5-4455-8982-e3ae18c0f3d9",
   "metadata": {},
   "outputs": [],
   "source": [
    "import os\n",
    "import pandas as pd\n",
    "import nltk\n",
    "from nltk.corpus import stopwords\n",
    "from nltk.tokenize import word_tokenize\n",
    "from sklearn.feature_extraction.text import TfidfVectorizer\n",
    "from sklearn.model_selection import train_test_split\n",
    "from sklearn.svm import SVC\n",
    "from sklearn.naive_bayes import MultinomialNB\n",
    "from sklearn.metrics import classification_report, accuracy_score"
   ]
  },
  {
   "cell_type": "code",
   "execution_count": 4,
   "id": "ce242fc2-134d-4758-a543-4f24488ccbb0",
   "metadata": {},
   "outputs": [
    {
     "name": "stderr",
     "output_type": "stream",
     "text": [
      "[nltk_data] Downloading package punkt to\n",
      "[nltk_data]     C:/Users/user/AppData/Roaming/nltk_data...\n",
      "[nltk_data]   Unzipping tokenizers\\punkt.zip.\n",
      "[nltk_data] Downloading package stopwords to\n",
      "[nltk_data]     C:/Users/user/AppData/Roaming/nltk_data...\n",
      "[nltk_data]   Unzipping corpora\\stopwords.zip.\n"
     ]
    },
    {
     "data": {
      "text/plain": [
       "True"
      ]
     },
     "execution_count": 4,
     "metadata": {},
     "output_type": "execute_result"
    }
   ],
   "source": [
    "import nltk\n",
    "\n",
    "nltk.download('punkt', download_dir='C:/Users/user/AppData/Roaming/nltk_data')\n",
    "nltk.download('stopwords', download_dir='C:/Users/user/AppData/Roaming/nltk_data')"
   ]
  },
  {
   "cell_type": "code",
   "execution_count": 5,
   "id": "253c9284-dc74-46bc-98c0-14f69aca3f6a",
   "metadata": {},
   "outputs": [
    {
     "name": "stderr",
     "output_type": "stream",
     "text": [
      "[nltk_data] Downloading package punkt to\n",
      "[nltk_data]     C:\\Users\\user\\AppData\\Roaming\\nltk_data...\n",
      "[nltk_data]   Package punkt is already up-to-date!\n",
      "[nltk_data] Downloading package stopwords to\n",
      "[nltk_data]     C:\\Users\\user\\AppData\\Roaming\\nltk_data...\n",
      "[nltk_data]   Package stopwords is already up-to-date!\n"
     ]
    },
    {
     "data": {
      "text/plain": [
       "True"
      ]
     },
     "execution_count": 5,
     "metadata": {},
     "output_type": "execute_result"
    }
   ],
   "source": [
    "import nltk\n",
    "import os\n",
    "\n",
    "# Set the environment variable for NLTK data\n",
    "nltk.data.path.append('C:/Users/user/AppData/Roaming/nltk_data')\n",
    "\n",
    "# Try downloading again\n",
    "nltk.download('punkt')\n",
    "nltk.download('stopwords')\n"
   ]
  },
  {
   "cell_type": "code",
   "execution_count": 4,
   "id": "9ed50b70-322f-4f39-92e1-516909fac99b",
   "metadata": {},
   "outputs": [],
   "source": [
    "\n",
    "def load_emails(data_directory):\n",
    "    emails = []\n",
    "    labels = []\n",
    "    for filename in os.listdir(data_directory):\n",
    "        if filename.endswith(\".txt\"):\n",
    "            with open(os.path.join(data_directory, filename), 'r', encoding='utf-8', errors='ignore') as file:\n",
    "                emails.append(file.read())\n",
    "                labels.append('spam' if 'spam' in filename else 'ham')\n",
    "    return pd.DataFrame({'email': emails, 'label': labels})\n"
   ]
  },
  {
   "cell_type": "code",
   "execution_count": 5,
   "id": "5719a85d-ac44-4806-9de5-e6eeefee438a",
   "metadata": {},
   "outputs": [
    {
     "data": {
      "text/html": [
       "<div>\n",
       "<style scoped>\n",
       "    .dataframe tbody tr th:only-of-type {\n",
       "        vertical-align: middle;\n",
       "    }\n",
       "\n",
       "    .dataframe tbody tr th {\n",
       "        vertical-align: top;\n",
       "    }\n",
       "\n",
       "    .dataframe thead th {\n",
       "        text-align: right;\n",
       "    }\n",
       "</style>\n",
       "<table border=\"1\" class=\"dataframe\">\n",
       "  <thead>\n",
       "    <tr style=\"text-align: right;\">\n",
       "      <th></th>\n",
       "      <th>email</th>\n",
       "      <th>label</th>\n",
       "    </tr>\n",
       "  </thead>\n",
       "  <tbody>\n",
       "    <tr>\n",
       "      <th>0</th>\n",
       "      <td>Subject: christmas tree farm pictures\\n</td>\n",
       "      <td>ham</td>\n",
       "    </tr>\n",
       "    <tr>\n",
       "      <th>1</th>\n",
       "      <td>Subject: vastar resources , inc .\\ngary , prod...</td>\n",
       "      <td>ham</td>\n",
       "    </tr>\n",
       "    <tr>\n",
       "      <th>2</th>\n",
       "      <td>Subject: calpine daily gas nomination\\n- calpi...</td>\n",
       "      <td>ham</td>\n",
       "    </tr>\n",
       "    <tr>\n",
       "      <th>3</th>\n",
       "      <td>Subject: re : issue\\nfyi - see note below - al...</td>\n",
       "      <td>ham</td>\n",
       "    </tr>\n",
       "    <tr>\n",
       "      <th>4</th>\n",
       "      <td>Subject: meter 7268 nov allocation\\nfyi .\\n- -...</td>\n",
       "      <td>ham</td>\n",
       "    </tr>\n",
       "  </tbody>\n",
       "</table>\n",
       "</div>"
      ],
      "text/plain": [
       "                                               email label\n",
       "0            Subject: christmas tree farm pictures\\n   ham\n",
       "1  Subject: vastar resources , inc .\\ngary , prod...   ham\n",
       "2  Subject: calpine daily gas nomination\\n- calpi...   ham\n",
       "3  Subject: re : issue\\nfyi - see note below - al...   ham\n",
       "4  Subject: meter 7268 nov allocation\\nfyi .\\n- -...   ham"
      ]
     },
     "execution_count": 5,
     "metadata": {},
     "output_type": "execute_result"
    }
   ],
   "source": [
    "data_directory = r\"C:\\Users\\user\\Downloads\\training emails\"\n",
    "emails_df = load_emails(data_directory)\n",
    "emails_df.head()"
   ]
  },
  {
   "cell_type": "code",
   "execution_count": 6,
   "id": "b1e03d68-261d-4308-bc1b-7b0bfb18b02f",
   "metadata": {},
   "outputs": [],
   "source": [
    "def preprocess_text(text):\n",
    "    words = word_tokenize(text.lower())\n",
    "    words = [word for word in words if word.isalpha() and word not in stopwords.words('english')]\n",
    "    return ' '.join(words)"
   ]
  },
  {
   "cell_type": "code",
   "execution_count": null,
   "id": "00486b67-9b62-40b1-87a7-913a741cff20",
   "metadata": {},
   "outputs": [],
   "source": [
    "emails_df['processed_email'] = emails_df['email'].apply(preprocess_text)"
   ]
  },
  {
   "cell_type": "code",
   "execution_count": null,
   "id": "0090c5a1-51e7-4f3d-bd94-cf6ff2e700ae",
   "metadata": {},
   "outputs": [],
   "source": [
    "tfidf_vectorizer = TfidfVectorizer(max_features=3000)\n",
    "X = tfidf_vectorizer.fit_transform(emails_df['processed_email']).toarray()\n",
    "y = emails_df['label']"
   ]
  },
  {
   "cell_type": "code",
   "execution_count": null,
   "id": "99db051e-f3bc-4b24-b5c5-70ca4e6742a8",
   "metadata": {},
   "outputs": [],
   "source": [
    "X_train, X_test, y_train, y_test = train_test_split(X, y, test_size=0.2, random_state=42)"
   ]
  },
  {
   "cell_type": "code",
   "execution_count": null,
   "id": "26fb09e3-a9e9-45df-bfb9-53dcd548902c",
   "metadata": {},
   "outputs": [],
   "source": [
    "svm_model = SVC(kernel='linear')\n",
    "svm_model.fit(X_train, y_train)"
   ]
  },
  {
   "cell_type": "code",
   "execution_count": null,
   "id": "900af97e-19e4-4c28-8156-c0e350067899",
   "metadata": {},
   "outputs": [],
   "source": [
    "nb_model = MultinomialNB()\n",
    "nb_model.fit(X_train, y_train)"
   ]
  },
  {
   "cell_type": "code",
   "execution_count": null,
   "id": "6b42a9d4-147d-4c80-bef6-06232e311c64",
   "metadata": {},
   "outputs": [],
   "source": [
    "svm_predictions = svm_model.predict(X_test)\n",
    "print(\"SVM Model\")\n",
    "print(classification_report(y_test, svm_predictions))\n",
    "print(\"Accuracy:\", accuracy_score(y_test, svm_predictions))"
   ]
  },
  {
   "cell_type": "code",
   "execution_count": null,
   "id": "0e498e44-7c19-435c-aeda-2f32327c83f3",
   "metadata": {},
   "outputs": [],
   "source": [
    "nb_predictions = nb_model.predict(X_test)\n",
    "print(\"Naive Bayes Model\")\n",
    "print(classification_report(y_test, nb_predictions))\n",
    "print(\"Accuracy:\", accuracy_score(y_test, nb_predictions))"
   ]
  },
  {
   "cell_type": "code",
   "execution_count": null,
   "id": "fba544d1-026c-4f1a-81e8-1e174f9f39f6",
   "metadata": {},
   "outputs": [],
   "source": [
    "from sklearn.metrics import confusion_matrix\n",
    "import matplotlib.pyplot as plt\n",
    "import seaborn as sns\n",
    "svm_predictions = svm_model.predict(X_test)\n",
    "svm_cm = confusion_matrix(y_test, svm_predictions)\n",
    "plt.figure(figsize=(8, 6))\n",
    "sns.heatmap(svm_cm, annot=True, fmt='d', cmap='Blues', xticklabels=['ham', 'spam'], yticklabels=['ham', 'spam'])\n",
    "plt.xlabel('Predicted')\n",
    "plt.ylabel('Actual')\n",
    "plt.title('Confusion Matrix - SVM Model')\n",
    "plt.show()"
   ]
  }
 ],
 "metadata": {
  "kernelspec": {
   "display_name": "Python 3 (ipykernel)",
   "language": "python",
   "name": "python3"
  },
  "language_info": {
   "codemirror_mode": {
    "name": "ipython",
    "version": 3
   },
   "file_extension": ".py",
   "mimetype": "text/x-python",
   "name": "python",
   "nbconvert_exporter": "python",
   "pygments_lexer": "ipython3",
   "version": "3.11.7"
  }
 },
 "nbformat": 4,
 "nbformat_minor": 5
}
